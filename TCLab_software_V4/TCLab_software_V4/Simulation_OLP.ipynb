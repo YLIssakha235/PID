{
 "cells": [
  {
   "cell_type": "code",
   "execution_count": null,
   "id": "ff7c3112-e5e2-4c34-aa3b-51842d99449f",
   "metadata": {},
   "outputs": [],
   "source": [
    "#import"
   ]
  },
  {
   "cell_type": "code",
   "execution_count": null,
   "id": "afae6188-8ac9-4b9e-9c5f-973e48ca57ff",
   "metadata": {},
   "outputs": [],
   "source": [
    "import pandas as pd\n",
    "import numpy as np\n",
    "import matplotlib.pyplot as plt\n",
    "from scipy.optimize import minimize\n",
    "from matplotlib import colors as mcolors\n",
    "from math import e\n",
    "\n",
    "import package_DBR\n",
    "from package_DBR import myRound, SelectPath_RT, Delay_RT, FO_RT, FOPDT, SOPDT, FOPDT_cost, SOPDT_cost, Process, Bode"
   ]
  },
  {
   "cell_type": "code",
   "execution_count": null,
   "id": "4917ba57-1aeb-44f8-85bb-7475e5e73bb2",
   "metadata": {},
   "outputs": [],
   "source": [
    "#Valeurs\n",
    "a = 0\n",
    "T_u = 0\n",
    "T_g = 0\n",
    "t_1 = 0\n",
    "t_2 = 0\n",
    "K_P = 0"
   ]
  },
  {
   "cell_type": "code",
   "execution_count": null,
   "id": "3e404266-4f4a-4f0c-89fc-54d3a208efab",
   "metadata": {},
   "outputs": [],
   "source": [
    "#Broida1\n",
    "T = T_g\n",
    "theta = T_u\n",
    "num = K_P*e**((-theta)*s)\n",
    "den = T*s + 1\n",
    "\n",
    "P = num/den"
   ]
  },
  {
   "cell_type": "code",
   "execution_count": null,
   "id": "e53f6c4d-d031-48e1-9e8c-126a41e2c475",
   "metadata": {},
   "outputs": [],
   "source": [
    "#Broida2\n",
    "T = 5.5*(t_2 - t_1)\n",
    "theta = 2.8*t_1 - 1.8*t_2\n",
    "num = K_P*e**((-theta)*s)\n",
    "den = T*s + 1\n",
    "\n",
    "P = num/den"
   ]
  },
  {
   "cell_type": "code",
   "execution_count": 22,
   "id": "96a4509b-c963-401e-8d17-8daad2328444",
   "metadata": {},
   "outputs": [],
   "source": [
    "#Van der Grinten\n",
    "T_1 = T_g*(3*a*e - 1)/(1+a*e)\n",
    "T_2 = T_g*(1-a*e)/(1+a*e)\n",
    "theta = T_u - (T_1*T_2)/(T_1 + 3*T_2)\n",
    "\n",
    "if T_1 > 1 :\n",
    "    num = K_P*e**((-theta)*s)\n",
    "    den = (T_1*s + 1)*(T_2*s + 1)\n",
    "    P = num/den\n",
    "    print(P)\n",
    "else :\n",
    "    pass"
   ]
  },
  {
   "cell_type": "code",
   "execution_count": null,
   "id": "836db685-197c-4504-868e-c96506e3785a",
   "metadata": {},
   "outputs": [],
   "source": [
    "#Strejc\n",
    "ratio = T_u/T_g\n",
    "\n",
    "if ratio >= 0 and ratio < 0.1 :\n",
    "    n = 1\n",
    "elif ratio >= 0.1 and ratio < 0.22 :\n",
    "    n = 2\n",
    "elif ratio >= 0.22 and ratio < 0.32 :\n",
    "    n = 3\n",
    "elif ratio >= 0.32 and ratio < 0.41 :\n",
    "    n = 4\n",
    "elif ratio >= 0.41 and ratio < 0.49 :\n",
    "    n = 5\n",
    "elif ratio >= 0.49 and ratio < 0.57 :\n",
    "    n = 6\n",
    "elif ratio >= 0.57 :\n",
    "    n = 7\n",
    "\n",
    "if n == 1 :\n",
    "    a_n = 0\n",
    "elif n == 2 :\n",
    "    a_n = 0.1\n",
    "elif n == 3 :\n",
    "    a_n = 0.22\n",
    "elif n == 4 :\n",
    "    a_n = 0.32\n",
    "elif n == 5 :\n",
    "    a_n = 0.1"
   ]
  }
 ],
 "metadata": {
  "kernelspec": {
   "display_name": "Python [conda env:base] *",
   "language": "python",
   "name": "conda-base-py"
  },
  "language_info": {
   "codemirror_mode": {
    "name": "ipython",
    "version": 3
   },
   "file_extension": ".py",
   "mimetype": "text/x-python",
   "name": "python",
   "nbconvert_exporter": "python",
   "pygments_lexer": "ipython3",
   "version": "3.12.7"
  }
 },
 "nbformat": 4,
 "nbformat_minor": 5
}
