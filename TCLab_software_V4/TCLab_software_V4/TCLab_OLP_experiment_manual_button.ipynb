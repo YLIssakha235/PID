{
 "cells": [
  {
   "cell_type": "markdown",
   "metadata": {},
   "source": [
    "# Imports"
   ]
  },
  {
   "cell_type": "code",
   "execution_count": null,
   "metadata": {},
   "outputs": [],
   "source": [
    "import numpy as np\n",
    "import matplotlib.pyplot as plt\n",
    "from IPython.display import display, clear_output\n",
    "\n",
    "from datetime import datetime\n",
    "import tclab\n",
    "\n",
    "import os\n",
    "\n",
    "import tkinter as tk\n",
    "\n",
    "import package_DBR\n",
    "from package_DBR import myRound"
   ]
  },
  {
   "cell_type": "markdown",
   "metadata": {},
   "source": [
    "# Parameters"
   ]
  },
  {
   "cell_type": "code",
   "execution_count": null,
   "metadata": {},
   "outputs": [],
   "source": [
    "Ts = 1\n",
    "\n",
    "#ExpVariable = \"MV\"\n",
    "ExpVariable = \"DV\"\n",
    "\n",
    "MV0 = 50\n",
    "DV0 = 50\n",
    "Delta = 20 \n",
    "\n",
    "NumSteps = 1"
   ]
  },
  {
   "cell_type": "markdown",
   "metadata": {},
   "source": [
    "# Functions"
   ]
  },
  {
   "cell_type": "code",
   "execution_count": null,
   "metadata": {},
   "outputs": [],
   "source": [
    "# Create a function to update the plot\n",
    "def update_plot(t, MV, PV, DV):\n",
    "    l1.set_data(t,MV)\n",
    "    l2.set_data(t,PV)\n",
    "    l3.set_data(t,DV)    \n",
    "    \n",
    "    ax1.set_xlim(0, t[-1])\n",
    "    ax2.set_xlim(0, t[-1])\n",
    "    ax3.set_xlim(0, t[-1])    \n",
    "    \n",
    "    ax1.set_ylim(myRound(np.min(MV),5)-5, myRound(np.max(MV),5)+5)\n",
    "    ax2.set_ylim(myRound(np.min(PV),5)-5, myRound(np.max(PV),5)+5)\n",
    "    ax3.set_ylim(myRound(np.min(DV),5)-5, myRound(np.max(DV),5)+5)    \n",
    "    \n",
    "    clear_output(wait=True)     \n",
    "    display(fig)    \n",
    "\n",
    "# Create a function to pause the plot\n",
    "def interact_update():\n",
    "    global t, MV, PV, DV, Step, MVValue, DVValue\n",
    "    \n",
    "    if Step == 0:\n",
    "        t = np.array([0])\n",
    "        MV = np.array([MVValue])\n",
    "        DV = np.array([DVValue])        \n",
    "        PV = np.array([lab.T1])\n",
    "    else:\n",
    "        if Step == NumSteps + 1:\n",
    "            lab.Q1(0)\n",
    "            lab.Q2(0)\n",
    "            root.destroy()\n",
    "        else:    \n",
    "            if ExpVariable == \"MV\":\n",
    "                if MVValue == MV0 - Delta:\n",
    "                    MVValue = MV0 + Delta\n",
    "                else:\n",
    "                    MVValue = MV0 - Delta                \n",
    "            else:            \n",
    "                if DVValue == DV0 - Delta:\n",
    "                    DVValue = DV0 + Delta\n",
    "                else:\n",
    "                    DVValue = DV0 - Delta\n",
    "            lab.Q1(MVValue)\n",
    "            lab.Q2(DVValue)                 \n",
    "        \n",
    "    Step += 1\n",
    "    \n",
    "# Define a function to update the plot and check for button events\n",
    "def update_plot_and_check_events():\n",
    "    global t, MV, PV, DV, MVValue, DVValue\n",
    "    \n",
    "    # Check for button events\n",
    "    root.update()\n",
    "    root.after(Ts*1000, update_plot_and_check_events)     \n",
    "    \n",
    "    # Update the data arrays\n",
    "    t = np.append(t, t[-1] + Ts)\n",
    "    MV = np.append(MV, MVValue)\n",
    "    DV = np.append(DV, DVValue)           \n",
    "    PV = np.append(PV, lab.T1)       \n",
    "\n",
    "    # Update the plot\n",
    "    update_plot(t, MV, PV, DV)"
   ]
  },
  {
   "cell_type": "markdown",
   "metadata": {},
   "source": [
    "# Main program"
   ]
  },
  {
   "cell_type": "code",
   "execution_count": null,
   "metadata": {},
   "outputs": [],
   "source": [
    "Step = 0\n",
    "\n",
    "if ExpVariable == \"MV\":\n",
    "    MVValue = MV0 - Delta\n",
    "    DVValue = DV0        \n",
    "else:            \n",
    "    MVValue = MV0\n",
    "    DVValue = DV0 - Delta\n",
    "\n",
    "# Main figure with axes\n",
    "fig, (ax1, ax2, ax3) = plt.subplots(3,1)\n",
    "fig.set_figheight(12)\n",
    "fig.set_figwidth(22)\n",
    "\n",
    "l1, = ax1.step([0,1],[0,100],'b-',linewidth=2,label='MV',where='post')\n",
    "ax1.set_ylabel('Value of MV [%]')\n",
    "ax1.set_title('Open-loop experiment on ' + ExpVariable)\n",
    "ax1.legend(loc='best')\n",
    "\n",
    "l2, = ax2.step([0,1],[0,100],'g-',linewidth=2,label='PV',where='post')\n",
    "ax2.set_ylabel('Value of PV [°C]')\n",
    "ax2.legend(loc='best')\n",
    "\n",
    "l3, = ax3.step([0,1],[0,100],'r-',linewidth=2,label='DV',where='post')\n",
    "ax3.set_xlabel('Time [s]')\n",
    "ax3.set_ylabel('Value of DV [%]')\n",
    "ax3.legend(loc='best') \n",
    "\n",
    "# Connect to the TCLab device\n",
    "with tclab.TCLab() as lab:\n",
    "    lab.Q1(MVValue)\n",
    "    lab.Q2(DVValue)                \n",
    "    \n",
    "    t = np.array([0])\n",
    "    MV = np.array([MVValue])\n",
    "    DV = np.array([DVValue])    \n",
    "    PV = np.array([lab.T1])  \n",
    "\n",
    "    # Set up the tkinter root window and button\n",
    "    root = tk.Tk()\n",
    "    root.geometry(\"200x50\")\n",
    "    interact_button = tk.Button(root, text = \"Interact\", command = interact_update)\n",
    "    interact_button.pack()\n",
    "\n",
    "    # Start the update loop\n",
    "    update_plot_and_check_events()\n",
    "    root.mainloop()\n",
    "\n",
    "# Save data    \n",
    "now = datetime.now()\n",
    "date_time = now.strftime(\"%Y-%m-%d-%Hh%M\")\n",
    "my_data = np.vstack((t.T,MV.T,PV.T,DV.T))\n",
    "my_data = my_data.T\n",
    "nameFile = 'Data/Open_loop_experiment_on_' + ExpVariable + '_' + date_time + '.txt'\n",
    "if not os.path.exists('Data'):\n",
    "    os.makedirs('Data')\n",
    "np.savetxt(nameFile,my_data,delimiter=',',header='t,MV,PV,DV',comments='')    "
   ]
  }
 ],
 "metadata": {
  "kernelspec": {
   "display_name": "Python [conda env:base] *",
   "language": "python",
   "name": "conda-base-py"
  },
  "language_info": {
   "codemirror_mode": {
    "name": "ipython",
    "version": 3
   },
   "file_extension": ".py",
   "mimetype": "text/x-python",
   "name": "python",
   "nbconvert_exporter": "python",
   "pygments_lexer": "ipython3",
   "version": "3.12.7"
  }
 },
 "nbformat": 4,
 "nbformat_minor": 4
}
